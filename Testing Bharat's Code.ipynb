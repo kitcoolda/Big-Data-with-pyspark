{
 "cells": [
  {
   "cell_type": "code",
   "execution_count": 1,
   "metadata": {
    "collapsed": false
   },
   "outputs": [
    {
     "data": {
      "text/plain": [
       "<pyspark.context.SparkContext at 0x109b89a50>"
      ]
     },
     "execution_count": 1,
     "metadata": {},
     "output_type": "execute_result"
    }
   ],
   "source": [
    "sc"
   ]
  },
  {
   "cell_type": "code",
   "execution_count": 2,
   "metadata": {
    "collapsed": true
   },
   "outputs": [],
   "source": [
    "import itertools\n",
    "from math import sqrt\n",
    "from pyspark import SQLContext\n",
    "from pyspark.sql.types import *\n",
    "from pyspark.sql.functions import unix_timestamp, to_date, col, count, \\\n",
    "                                    to_utc_timestamp, desc, datediff, lit, round\n",
    "    \n",
    "from pyspark.sql.functions import substring, to_date, length, udf, log, exp, avg\n",
    "import pyspark.sql.functions as func\n",
    "import matplotlib.pyplot as plt\n",
    "from mpl_toolkits.mplot3d import Axes3D\n",
    "import seaborn as sns\n",
    "import random\n",
    "%matplotlib inline\n",
    "import pandas as pd\n",
    "import numpy as np\n",
    "from sklearn.metrics.pairwise import euclidean_distances"
   ]
  },
  {
   "cell_type": "code",
   "execution_count": 3,
   "metadata": {
    "collapsed": true
   },
   "outputs": [],
   "source": [
    "# Machine learning imports\n",
    "from pyspark.mllib.clustering import KMeans, KMeansModel\n",
    "from pyspark.mllib.regression import LabeledPoint\n",
    "from pyspark.mllib.feature import StandardScaler\n",
    "from pyspark.mllib.stat import Statistics\n",
    "from pyspark.mllib.evaluation import RegressionMetrics\n",
    "\n",
    "from pyspark.ml.feature import OneHotEncoder, StringIndexer, VectorAssembler, PolynomialExpansion, VectorIndexer\n",
    "from pyspark.ml import Pipeline\n",
    "from pyspark.ml.regression import LinearRegression, DecisionTreeRegressor, RandomForestRegressor\n",
    "from pyspark.ml.linalg import DenseVector, SparseVector, Vectors, Vector\n",
    "from pyspark.ml.evaluation import RegressionEvaluator"
   ]
  },
  {
   "cell_type": "code",
   "execution_count": 4,
   "metadata": {
    "collapsed": true
   },
   "outputs": [],
   "source": [
    "input_file = sc.textFile('friendsnetwork.csv')"
   ]
  },
  {
   "cell_type": "code",
   "execution_count": 5,
   "metadata": {
    "collapsed": true
   },
   "outputs": [],
   "source": [
    "friends_list = input_file.map(lambda line: line.rstrip(', ')) \\\n",
    "                        .map(lambda line: line.split(',')) \\\n",
    "                        .map(lambda friendList: (friendList[0], friendList[1:]))"
   ]
  },
  {
   "cell_type": "code",
   "execution_count": 6,
   "metadata": {
    "collapsed": true
   },
   "outputs": [],
   "source": [
    "def computePairsToRecommend(p_friendList):\n",
    "    user = p_friendList[0]\n",
    "    user_friends = list(set(p_friendList[1]))\n",
    "    \n",
    "    l_retList = [((friend, user), 0) if user > friend else ((user, friend), 0)\\\n",
    "                 for friend in user_friends]\n",
    "    \n",
    "    for pair in itertools.combinations(user_friends, 2):\n",
    "        if pair[0] > pair[1]:\n",
    "            l_retList.append(((pair[1], pair[0]), 1))\n",
    "        else:    \n",
    "            l_retList.append((pair, 1))\n",
    "    return l_retList"
   ]
  },
  {
   "cell_type": "code",
   "execution_count": 7,
   "metadata": {
    "collapsed": false
   },
   "outputs": [
    {
     "data": {
      "text/plain": [
       "PythonRDD[2] at RDD at PythonRDD.scala:48"
      ]
     },
     "execution_count": 7,
     "metadata": {},
     "output_type": "execute_result"
    }
   ],
   "source": [
    "friend_pairs = friends_list.flatMap(lambda userPair: computePairsToRecommend(userPair))\n",
    "friend_pairs.cache()"
   ]
  },
  {
   "cell_type": "code",
   "execution_count": 8,
   "metadata": {
    "collapsed": false
   },
   "outputs": [
    {
     "data": {
      "text/plain": [
       "PythonRDD[7] at RDD at PythonRDD.scala:48"
      ]
     },
     "execution_count": 8,
     "metadata": {},
     "output_type": "execute_result"
    }
   ],
   "source": [
    "recommendation_list = friend_pairs.groupByKey().filter(lambda rec: 0 not in rec[1]) \\\n",
    "                                                .map(lambda x: (x[0], sum(x[1])))\n",
    "recommendation_list.cache()"
   ]
  },
  {
   "cell_type": "code",
   "execution_count": 13,
   "metadata": {
    "collapsed": false
   },
   "outputs": [
    {
     "data": {
      "text/plain": [
       "[((u'Julian Woods', u'Melinda Weeks'), 3),\n",
       " ((u'Benjamin Hensley', u'Lewis Currin'), 3),\n",
       " ((u'Bob Fischer', u'Stephanie Hawkins'), 3),\n",
       " ((u'Jay Wang', u'Marion Puckett'), 3),\n",
       " ((u'Jamie Gallagher', u'Theodore McKay'), 3),\n",
       " ((u'Audrey Field', u'Audrey Lanier'), 2),\n",
       " ((u'Jessica Hester', u'Suzanne Bowden'), 2),\n",
       " ((u'Kristine Dougherty', u'Terry Barton'), 2),\n",
       " ((u'Curtis Proctor', u'Gordon Berman'), 2),\n",
       " ((u'Anna Sawyer', u'Brent Fletcher'), 2)]"
      ]
     },
     "execution_count": 13,
     "metadata": {},
     "output_type": "execute_result"
    }
   ],
   "source": [
    "recommendation_list.sortBy(lambda rec: rec[1], ascending=False).take(10)"
   ]
  },
  {
   "cell_type": "code",
   "execution_count": 10,
   "metadata": {
    "collapsed": true
   },
   "outputs": [],
   "source": [
    "max_friends = 5\n",
    "final_list = recommendation_list.flatMap(lambda rec: [(rec[0][0], (rec[0][1], rec[1])), \\\n",
    "                                                (rec[0][1], (rec[0][0], rec[1]))])\n",
    "output = final_list.groupByKey().mapValues(lambda rec: \\\n",
    "                                           sorted(rec, key=lambda x: x[1], reverse=True)[:max_friends])"
   ]
  },
  {
   "cell_type": "code",
   "execution_count": 12,
   "metadata": {
    "collapsed": false
   },
   "outputs": [
    {
     "data": {
      "text/plain": [
       "[(u'Bruce Wiley',\n",
       "  [(u'Patsy Parrott', 2),\n",
       "   (u'Russell Dalton', 2),\n",
       "   (u'Steven Ballard', 2),\n",
       "   (u'Carl Nixon', 1),\n",
       "   (u'Sheryl Love', 1)]),\n",
       " (u'Sherry Bray',\n",
       "  [(u'Suzanne Gould', 1),\n",
       "   (u'Peter Hughes', 1),\n",
       "   (u'Henry Dickson', 1),\n",
       "   (u'Lester Rich', 1),\n",
       "   (u'Sandra Grossman', 1)]),\n",
       " (u'Helen Jordan',\n",
       "  [(u'Beth Gonzalez', 1),\n",
       "   (u'Carolyn McConnell', 1),\n",
       "   (u'Bernard Bowers', 1),\n",
       "   (u'Gilbert Berger', 1),\n",
       "   (u'Claude Nixon', 1)]),\n",
       " (u'Jan Brown',\n",
       "  [(u'Patsy Parrott', 1),\n",
       "   (u'Alice Eaton', 1),\n",
       "   (u'Sherri Pate', 1),\n",
       "   (u'Bruce Wiley', 1),\n",
       "   (u'Joanne Katz', 1)]),\n",
       " (u'Cynthia Mack',\n",
       "  [(u'Florence McFarland', 1),\n",
       "   (u'Melinda Proctor', 1),\n",
       "   (u'Steven Boyd', 1),\n",
       "   (u'Megan McPherson', 1),\n",
       "   (u'Catherine Garcia', 1)])]"
      ]
     },
     "execution_count": 12,
     "metadata": {},
     "output_type": "execute_result"
    }
   ],
   "source": [
    "output.take(5)"
   ]
  },
  {
   "cell_type": "code",
   "execution_count": null,
   "metadata": {
    "collapsed": true
   },
   "outputs": [],
   "source": []
  }
 ],
 "metadata": {
  "anaconda-cloud": {},
  "kernelspec": {
   "display_name": "Python [default]",
   "language": "python",
   "name": "python2"
  },
  "language_info": {
   "codemirror_mode": {
    "name": "ipython",
    "version": 2
   },
   "file_extension": ".py",
   "mimetype": "text/x-python",
   "name": "python",
   "nbconvert_exporter": "python",
   "pygments_lexer": "ipython2",
   "version": "2.7.12"
  }
 },
 "nbformat": 4,
 "nbformat_minor": 1
}
